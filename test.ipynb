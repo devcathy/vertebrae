{
 "cells": [
  {
   "cell_type": "code",
   "execution_count": 67,
   "metadata": {},
   "outputs": [],
   "source": [
    "import SimpleITK as sitk"
   ]
  },
  {
   "cell_type": "code",
   "execution_count": 68,
   "metadata": {},
   "outputs": [],
   "source": [
    "import numpy as np"
   ]
  },
  {
   "cell_type": "code",
   "execution_count": 69,
   "metadata": {},
   "outputs": [],
   "source": [
    "# SimpleTk 를 활용해서 획득한 nii 배열의 형식은 numpy 이며, 3D  이미지 축은 z, y, x 순으로 획득하였다. \n",
    "# 배열 요소의 형식은 int 로 이뤄져 있다. "
   ]
  },
  {
   "cell_type": "code",
   "execution_count": 71,
   "metadata": {},
   "outputs": [
    {
     "name": "stdout",
     "output_type": "stream",
     "text": [
      "<class 'numpy.ndarray'>\n",
      "(179, 192, 294)\n",
      "[0.]\n",
      "0.0\n"
     ]
    }
   ],
   "source": [
    "label_path = 's0000/body/vertebrae_L2_body.nii.gz'\n",
    "\n",
    "label_mask_sitk = sitk.ReadImage(label_path)\n",
    "label_mask_sitk = sitk.GetArrayFromImage(label_mask_sitk)\n",
    "\n",
    "print(type(label_mask_sitk))\n",
    "print(label_mask_sitk.shape)\n",
    "print(np.unique(label_mask_sitk))\n",
    "print(np.sum(label_mask_sitk))"
   ]
  },
  {
   "cell_type": "code",
   "execution_count": 72,
   "metadata": {},
   "outputs": [
    {
     "name": "stdout",
     "output_type": "stream",
     "text": [
      "<class 'numpy.ndarray'>\n",
      "(179, 192, 294)\n",
      "[0]\n",
      "0\n"
     ]
    }
   ],
   "source": [
    "label_path = 's0000/mask/vertebrae_L1.nii.gz'\n",
    "\n",
    "label_mask_sitk = sitk.ReadImage(label_path)\n",
    "label_mask_sitk = sitk.GetArrayFromImage(label_mask_sitk)\n",
    "\n",
    "print(type(label_mask_sitk))\n",
    "print(label_mask_sitk.shape)\n",
    "print(np.unique(label_mask_sitk))\n",
    "print(np.sum(label_mask_sitk))"
   ]
  },
  {
   "cell_type": "code",
   "execution_count": 17,
   "metadata": {},
   "outputs": [
    {
     "name": "stdout",
     "output_type": "stream",
     "text": [
      "<class 'numpy.ndarray'>\n",
      "(179, 192, 294)\n",
      "[0]\n"
     ]
    }
   ],
   "source": [
    "import SimpleITK as sitk\n",
    "import numpy as np\n",
    "\n",
    "# 경로 지정\n",
    "\n",
    "label_path = './s0000/segmentations/vertebrae_c1.nii.gz'\n",
    "\n",
    "# nii 읽기\n",
    "label_mask_sitk = sitk.ReadImage(label_path)\n",
    "label_mask_sitk = sitk.GetArrayFromImage(label_mask_sitk)\n",
    "\n",
    "# 결과 확인\n",
    "print(type(label_mask_sitk))\n",
    "print(label_mask_sitk.shape)\n",
    "print(np.unique(label_mask_sitk))"
   ]
  },
  {
   "cell_type": "code",
   "execution_count": 13,
   "metadata": {},
   "outputs": [],
   "source": [
    "# 파일 컨트롤 이용해서 label_path 에 vertebrae_.nii.gz 를 리스트에 넣어서 for 문을 사용하면 iterate 하게 하면서 전부 numpy 로 변환시키기"
   ]
  },
  {
   "cell_type": "code",
   "execution_count": 22,
   "metadata": {},
   "outputs": [],
   "source": [
    "import numpy as np\n",
    "import matplotlib.pyplot as plt\n",
    "from skimage.io import imshow\n",
    "\n",
    "from glob import glob\n",
    "import os"
   ]
  },
  {
   "cell_type": "code",
   "execution_count": 30,
   "metadata": {},
   "outputs": [],
   "source": [
    "MAIN_PATH = './s0000/'\n",
    "FILE_PATH = os.path.join(MAIN_PATH, 'segmentations')"
   ]
  },
  {
   "cell_type": "code",
   "execution_count": 31,
   "metadata": {},
   "outputs": [
    {
     "name": "stdout",
     "output_type": "stream",
     "text": [
      "[전체 파일 리스트]\n"
     ]
    },
    {
     "data": {
      "text/plain": [
       "['./s0000/segmentations/adrenal_gland_left.nii.gz',\n",
       " './s0000/segmentations/adrenal_gland_right.nii.gz',\n",
       " './s0000/segmentations/aorta.nii.gz',\n",
       " './s0000/segmentations/atrial_appendage_left.nii.gz',\n",
       " './s0000/segmentations/autochthon_left.nii.gz',\n",
       " './s0000/segmentations/autochthon_right.nii.gz',\n",
       " './s0000/segmentations/brachiocephalic_trunk.nii.gz',\n",
       " './s0000/segmentations/brachiocephalic_vein_left.nii.gz',\n",
       " './s0000/segmentations/brachiocephalic_vein_right.nii.gz',\n",
       " './s0000/segmentations/brain.nii.gz',\n",
       " './s0000/segmentations/clavicula_left.nii.gz',\n",
       " './s0000/segmentations/clavicula_right.nii.gz',\n",
       " './s0000/segmentations/colon.nii.gz',\n",
       " './s0000/segmentations/common_carotid_artery_left.nii.gz',\n",
       " './s0000/segmentations/common_carotid_artery_right.nii.gz',\n",
       " './s0000/segmentations/costal_cartilages.nii.gz',\n",
       " './s0000/segmentations/duodenum.nii.gz',\n",
       " './s0000/segmentations/esophagus.nii.gz',\n",
       " './s0000/segmentations/femur_left.nii.gz',\n",
       " './s0000/segmentations/femur_right.nii.gz',\n",
       " './s0000/segmentations/gallbladder.nii.gz',\n",
       " './s0000/segmentations/gluteus_maximus_left.nii.gz',\n",
       " './s0000/segmentations/gluteus_maximus_right.nii.gz',\n",
       " './s0000/segmentations/gluteus_medius_left.nii.gz',\n",
       " './s0000/segmentations/gluteus_medius_right.nii.gz',\n",
       " './s0000/segmentations/gluteus_minimus_left.nii.gz',\n",
       " './s0000/segmentations/gluteus_minimus_right.nii.gz',\n",
       " './s0000/segmentations/heart.nii.gz',\n",
       " './s0000/segmentations/hip_left.nii.gz',\n",
       " './s0000/segmentations/hip_right.nii.gz',\n",
       " './s0000/segmentations/humerus_left.nii.gz',\n",
       " './s0000/segmentations/humerus_right.nii.gz',\n",
       " './s0000/segmentations/iliac_artery_left.nii.gz',\n",
       " './s0000/segmentations/iliac_artery_right.nii.gz',\n",
       " './s0000/segmentations/iliac_vena_left.nii.gz',\n",
       " './s0000/segmentations/iliac_vena_right.nii.gz',\n",
       " './s0000/segmentations/iliopsoas_left.nii.gz',\n",
       " './s0000/segmentations/iliopsoas_right.nii.gz',\n",
       " './s0000/segmentations/inferior_vena_cava.nii.gz',\n",
       " './s0000/segmentations/kidney_cyst_left.nii.gz',\n",
       " './s0000/segmentations/kidney_cyst_right.nii.gz',\n",
       " './s0000/segmentations/kidney_left.nii.gz',\n",
       " './s0000/segmentations/kidney_right.nii.gz',\n",
       " './s0000/segmentations/liver.nii.gz',\n",
       " './s0000/segmentations/lung_lower_lobe_left.nii.gz',\n",
       " './s0000/segmentations/lung_lower_lobe_right.nii.gz',\n",
       " './s0000/segmentations/lung_middle_lobe_right.nii.gz',\n",
       " './s0000/segmentations/lung_upper_lobe_left.nii.gz',\n",
       " './s0000/segmentations/lung_upper_lobe_right.nii.gz',\n",
       " './s0000/segmentations/pancreas.nii.gz',\n",
       " './s0000/segmentations/portal_vein_and_splenic_vein.nii.gz',\n",
       " './s0000/segmentations/prostate.nii.gz',\n",
       " './s0000/segmentations/pulmonary_vein.nii.gz',\n",
       " './s0000/segmentations/rib_left_1.nii.gz',\n",
       " './s0000/segmentations/rib_left_10.nii.gz',\n",
       " './s0000/segmentations/rib_left_11.nii.gz',\n",
       " './s0000/segmentations/rib_left_12.nii.gz',\n",
       " './s0000/segmentations/rib_left_2.nii.gz',\n",
       " './s0000/segmentations/rib_left_3.nii.gz',\n",
       " './s0000/segmentations/rib_left_4.nii.gz',\n",
       " './s0000/segmentations/rib_left_5.nii.gz',\n",
       " './s0000/segmentations/rib_left_6.nii.gz',\n",
       " './s0000/segmentations/rib_left_7.nii.gz',\n",
       " './s0000/segmentations/rib_left_8.nii.gz',\n",
       " './s0000/segmentations/rib_left_9.nii.gz',\n",
       " './s0000/segmentations/rib_right_1.nii.gz',\n",
       " './s0000/segmentations/rib_right_10.nii.gz',\n",
       " './s0000/segmentations/rib_right_11.nii.gz',\n",
       " './s0000/segmentations/rib_right_12.nii.gz',\n",
       " './s0000/segmentations/rib_right_2.nii.gz',\n",
       " './s0000/segmentations/rib_right_3.nii.gz',\n",
       " './s0000/segmentations/rib_right_4.nii.gz',\n",
       " './s0000/segmentations/rib_right_5.nii.gz',\n",
       " './s0000/segmentations/rib_right_6.nii.gz',\n",
       " './s0000/segmentations/rib_right_7.nii.gz',\n",
       " './s0000/segmentations/rib_right_8.nii.gz',\n",
       " './s0000/segmentations/rib_right_9.nii.gz',\n",
       " './s0000/segmentations/sacrum.nii.gz',\n",
       " './s0000/segmentations/scapula_left.nii.gz',\n",
       " './s0000/segmentations/scapula_right.nii.gz',\n",
       " './s0000/segmentations/skull.nii.gz',\n",
       " './s0000/segmentations/small_bowel.nii.gz',\n",
       " './s0000/segmentations/spinal_cord.nii.gz',\n",
       " './s0000/segmentations/spleen.nii.gz',\n",
       " './s0000/segmentations/sternum.nii.gz',\n",
       " './s0000/segmentations/stomach.nii.gz',\n",
       " './s0000/segmentations/subclavian_artery_left.nii.gz',\n",
       " './s0000/segmentations/subclavian_artery_right.nii.gz',\n",
       " './s0000/segmentations/superior_vena_cava.nii.gz',\n",
       " './s0000/segmentations/thyroid_gland.nii.gz',\n",
       " './s0000/segmentations/trachea.nii.gz',\n",
       " './s0000/segmentations/urinary_bladder.nii.gz',\n",
       " './s0000/segmentations/vertebrae_C1.nii.gz',\n",
       " './s0000/segmentations/vertebrae_C2.nii.gz',\n",
       " './s0000/segmentations/vertebrae_C3.nii.gz',\n",
       " './s0000/segmentations/vertebrae_C4.nii.gz',\n",
       " './s0000/segmentations/vertebrae_C5.nii.gz',\n",
       " './s0000/segmentations/vertebrae_C6.nii.gz',\n",
       " './s0000/segmentations/vertebrae_C7.nii.gz',\n",
       " './s0000/segmentations/vertebrae_L1.nii.gz',\n",
       " './s0000/segmentations/vertebrae_L2.nii.gz',\n",
       " './s0000/segmentations/vertebrae_L3.nii.gz',\n",
       " './s0000/segmentations/vertebrae_L4.nii.gz',\n",
       " './s0000/segmentations/vertebrae_L5.nii.gz',\n",
       " './s0000/segmentations/vertebrae_S1.nii.gz',\n",
       " './s0000/segmentations/vertebrae_T1.nii.gz',\n",
       " './s0000/segmentations/vertebrae_T10.nii.gz',\n",
       " './s0000/segmentations/vertebrae_T11.nii.gz',\n",
       " './s0000/segmentations/vertebrae_T12.nii.gz',\n",
       " './s0000/segmentations/vertebrae_T2.nii.gz',\n",
       " './s0000/segmentations/vertebrae_T3.nii.gz',\n",
       " './s0000/segmentations/vertebrae_T4.nii.gz',\n",
       " './s0000/segmentations/vertebrae_T5.nii.gz',\n",
       " './s0000/segmentations/vertebrae_T6.nii.gz',\n",
       " './s0000/segmentations/vertebrae_T7.nii.gz',\n",
       " './s0000/segmentations/vertebrae_T8.nii.gz',\n",
       " './s0000/segmentations/vertebrae_T9.nii.gz']"
      ]
     },
     "execution_count": 31,
     "metadata": {},
     "output_type": "execute_result"
    }
   ],
   "source": [
    "FILE_LIST = sorted(glob(os.path.join(FILE_PATH, '*')))\n",
    "print(\"[전체 파일 리스트]\")\n",
    "FILE_LIST"
   ]
  },
  {
   "cell_type": "code",
   "execution_count": 35,
   "metadata": {},
   "outputs": [
    {
     "data": {
      "text/plain": [
       "['./s0000/segmentations/vertebrae_C1.nii.gz',\n",
       " './s0000/segmentations/vertebrae_C2.nii.gz',\n",
       " './s0000/segmentations/vertebrae_C3.nii.gz',\n",
       " './s0000/segmentations/vertebrae_C4.nii.gz',\n",
       " './s0000/segmentations/vertebrae_C5.nii.gz',\n",
       " './s0000/segmentations/vertebrae_C6.nii.gz',\n",
       " './s0000/segmentations/vertebrae_C7.nii.gz',\n",
       " './s0000/segmentations/vertebrae_L1.nii.gz',\n",
       " './s0000/segmentations/vertebrae_L2.nii.gz',\n",
       " './s0000/segmentations/vertebrae_L3.nii.gz',\n",
       " './s0000/segmentations/vertebrae_L4.nii.gz',\n",
       " './s0000/segmentations/vertebrae_L5.nii.gz',\n",
       " './s0000/segmentations/vertebrae_S1.nii.gz',\n",
       " './s0000/segmentations/vertebrae_T1.nii.gz',\n",
       " './s0000/segmentations/vertebrae_T10.nii.gz',\n",
       " './s0000/segmentations/vertebrae_T11.nii.gz',\n",
       " './s0000/segmentations/vertebrae_T12.nii.gz',\n",
       " './s0000/segmentations/vertebrae_T2.nii.gz',\n",
       " './s0000/segmentations/vertebrae_T3.nii.gz',\n",
       " './s0000/segmentations/vertebrae_T4.nii.gz',\n",
       " './s0000/segmentations/vertebrae_T5.nii.gz',\n",
       " './s0000/segmentations/vertebrae_T6.nii.gz',\n",
       " './s0000/segmentations/vertebrae_T7.nii.gz',\n",
       " './s0000/segmentations/vertebrae_T8.nii.gz',\n",
       " './s0000/segmentations/vertebrae_T9.nii.gz']"
      ]
     },
     "execution_count": 35,
     "metadata": {},
     "output_type": "execute_result"
    }
   ],
   "source": [
    "vertebrae_list = sorted(glob(os.path.join(FILE_PATH, 'vertebrae_*')))\n",
    "vertebrae_list"
   ]
  },
  {
   "cell_type": "code",
   "execution_count": 46,
   "metadata": {},
   "outputs": [
    {
     "name": "stdout",
     "output_type": "stream",
     "text": [
      "./s0000/segmentations/vertebrae_C1.nii.gz\n",
      "./s0000/segmentations/vertebrae_C2.nii.gz\n",
      "./s0000/segmentations/vertebrae_C3.nii.gz\n",
      "./s0000/segmentations/vertebrae_C4.nii.gz\n",
      "./s0000/segmentations/vertebrae_C5.nii.gz\n",
      "./s0000/segmentations/vertebrae_C6.nii.gz\n",
      "./s0000/segmentations/vertebrae_C7.nii.gz\n",
      "./s0000/segmentations/vertebrae_L1.nii.gz\n",
      "./s0000/segmentations/vertebrae_L2.nii.gz\n",
      "./s0000/segmentations/vertebrae_L3.nii.gz\n",
      "./s0000/segmentations/vertebrae_L4.nii.gz\n",
      "./s0000/segmentations/vertebrae_L5.nii.gz\n",
      "./s0000/segmentations/vertebrae_S1.nii.gz\n"
     ]
    },
    {
     "ename": "RuntimeError",
     "evalue": "Exception thrown in SimpleITK ImageFileReader_Execute: /Users/ec2-user/actions-runner/_work/SimpleITK/SimpleITK/bld/ITK/Modules/IO/NIFTI/src/itkNiftiImageIO.cxx:2135:\nITK ERROR: ITK only supports orthonormal direction cosines.  No orthonormal definition found!",
     "output_type": "error",
     "traceback": [
      "\u001b[0;31m---------------------------------------------------------------------------\u001b[0m",
      "\u001b[0;31mRuntimeError\u001b[0m                              Traceback (most recent call last)",
      "\u001b[0;32m/var/folders/h4/38ftrtb94jq1wpfqhsc3nxp80000gn/T/ipykernel_40736/3908141182.py\u001b[0m in \u001b[0;36m?\u001b[0;34m()\u001b[0m\n\u001b[1;32m      3\u001b[0m     \u001b[0mlabel_mask_path\u001b[0m \u001b[0;34m=\u001b[0m \u001b[0mvertebrae_list\u001b[0m\u001b[0;34m[\u001b[0m\u001b[0mi\u001b[0m\u001b[0;34m]\u001b[0m\u001b[0;34m\u001b[0m\u001b[0;34m\u001b[0m\u001b[0m\n\u001b[1;32m      4\u001b[0m     \u001b[0;32mif\u001b[0m \u001b[0;32mnot\u001b[0m \u001b[0mos\u001b[0m\u001b[0;34m.\u001b[0m\u001b[0mpath\u001b[0m\u001b[0;34m.\u001b[0m\u001b[0mexists\u001b[0m\u001b[0;34m(\u001b[0m\u001b[0mlabel_mask_path\u001b[0m\u001b[0;34m)\u001b[0m\u001b[0;34m:\u001b[0m\u001b[0;34m\u001b[0m\u001b[0;34m\u001b[0m\u001b[0m\n\u001b[1;32m      5\u001b[0m         \u001b[0mprint\u001b[0m\u001b[0;34m(\u001b[0m\u001b[0;34mf\"\u001b[0m\u001b[0;34m파일이 존재하지 않습니다 :\u001b[0m\u001b[0;34m{\u001b[0m\u001b[0mlabel_mask_path\u001b[0m\u001b[0;34m}\u001b[0m\u001b[0;34m\"\u001b[0m\u001b[0;34m)\u001b[0m\u001b[0;34m\u001b[0m\u001b[0;34m\u001b[0m\u001b[0m\n\u001b[1;32m      6\u001b[0m     \u001b[0mprint\u001b[0m\u001b[0;34m(\u001b[0m\u001b[0mlabel_mask_path\u001b[0m\u001b[0;34m)\u001b[0m\u001b[0;34m\u001b[0m\u001b[0;34m\u001b[0m\u001b[0m\n\u001b[0;32m----> 7\u001b[0;31m     \u001b[0mlabel_mask_sitk_1\u001b[0m \u001b[0;34m=\u001b[0m \u001b[0msitk\u001b[0m\u001b[0;34m.\u001b[0m\u001b[0mReadImage\u001b[0m\u001b[0;34m(\u001b[0m\u001b[0mlabel_mask_path\u001b[0m\u001b[0;34m)\u001b[0m\u001b[0;34m\u001b[0m\u001b[0;34m\u001b[0m\u001b[0m\n\u001b[0m\u001b[1;32m      8\u001b[0m     \u001b[0mlabel_mask_sitk_2\u001b[0m \u001b[0;34m=\u001b[0m \u001b[0msitk\u001b[0m\u001b[0;34m.\u001b[0m\u001b[0mGetArrayFromImage\u001b[0m\u001b[0;34m(\u001b[0m\u001b[0mlabel_mask_sitk_1\u001b[0m\u001b[0;34m)\u001b[0m\u001b[0;34m\u001b[0m\u001b[0;34m\u001b[0m\u001b[0m\n\u001b[1;32m      9\u001b[0m     \u001b[0mlabel_mask_sitk_list\u001b[0m\u001b[0;34m.\u001b[0m\u001b[0mappend\u001b[0m\u001b[0;34m(\u001b[0m\u001b[0mlabel_mask_sitk_2\u001b[0m\u001b[0;34m)\u001b[0m\u001b[0;34m\u001b[0m\u001b[0;34m\u001b[0m\u001b[0m\n\u001b[1;32m     10\u001b[0m \u001b[0;34m\u001b[0m\u001b[0m\n",
      "\u001b[0;32m~/opt/anaconda3/envs/dlenv/lib/python3.12/site-packages/SimpleITK/extra.py\u001b[0m in \u001b[0;36m?\u001b[0;34m(fileName, outputPixelType, imageIO)\u001b[0m\n\u001b[1;32m    380\u001b[0m         \u001b[0mreader\u001b[0m\u001b[0;34m.\u001b[0m\u001b[0mSetFileNames\u001b[0m\u001b[0;34m(\u001b[0m\u001b[0mfileName\u001b[0m\u001b[0;34m)\u001b[0m\u001b[0;34m\u001b[0m\u001b[0;34m\u001b[0m\u001b[0m\n\u001b[1;32m    381\u001b[0m \u001b[0;34m\u001b[0m\u001b[0m\n\u001b[1;32m    382\u001b[0m     \u001b[0mreader\u001b[0m\u001b[0;34m.\u001b[0m\u001b[0mSetImageIO\u001b[0m\u001b[0;34m(\u001b[0m\u001b[0mimageIO\u001b[0m\u001b[0;34m)\u001b[0m\u001b[0;34m\u001b[0m\u001b[0;34m\u001b[0m\u001b[0m\n\u001b[1;32m    383\u001b[0m     \u001b[0mreader\u001b[0m\u001b[0;34m.\u001b[0m\u001b[0mSetOutputPixelType\u001b[0m\u001b[0;34m(\u001b[0m\u001b[0moutputPixelType\u001b[0m\u001b[0;34m)\u001b[0m\u001b[0;34m\u001b[0m\u001b[0;34m\u001b[0m\u001b[0m\n\u001b[0;32m--> 384\u001b[0;31m     \u001b[0;32mreturn\u001b[0m \u001b[0mreader\u001b[0m\u001b[0;34m.\u001b[0m\u001b[0mExecute\u001b[0m\u001b[0;34m(\u001b[0m\u001b[0;34m)\u001b[0m\u001b[0;34m\u001b[0m\u001b[0;34m\u001b[0m\u001b[0m\n\u001b[0m",
      "\u001b[0;32m~/opt/anaconda3/envs/dlenv/lib/python3.12/site-packages/SimpleITK/SimpleITK.py\u001b[0m in \u001b[0;36m?\u001b[0;34m(self)\u001b[0m\n\u001b[1;32m   8498\u001b[0m         \u001b[0mtype\u001b[0m \u001b[0mto\u001b[0m \u001b[0mbe\u001b[0m \u001b[0msame\u001b[0m \u001b[0;32mas\u001b[0m \u001b[0mthe\u001b[0m \u001b[0mfile\u001b[0m\u001b[0;34m.\u001b[0m \u001b[0mIf\u001b[0m \u001b[0mthe\u001b[0m \u001b[0mpixel\u001b[0m \u001b[0mtype\u001b[0m \u001b[0;32mis\u001b[0m \u001b[0mspecified\u001b[0m \u001b[0mthen\u001b[0m \u001b[0mthe\u001b[0m \u001b[0mitk\u001b[0m\u001b[0;34m:\u001b[0m\u001b[0;34m:\u001b[0m\u001b[0mConvertPixelBuffer\u001b[0m \u001b[0mwill\u001b[0m \u001b[0mbe\u001b[0m \u001b[0mused\u001b[0m \u001b[0mto\u001b[0m \u001b[0mconvert\u001b[0m \u001b[0mthe\u001b[0m \u001b[0mpixels\u001b[0m\u001b[0;34m.\u001b[0m\u001b[0;34m\u001b[0m\u001b[0;34m\u001b[0m\u001b[0m\n\u001b[1;32m   8499\u001b[0m \u001b[0;34m\u001b[0m\u001b[0m\n\u001b[1;32m   8500\u001b[0m \u001b[0;34m\u001b[0m\u001b[0m\n\u001b[1;32m   8501\u001b[0m         \"\"\"\n\u001b[0;32m-> 8502\u001b[0;31m         \u001b[0;32mreturn\u001b[0m \u001b[0m_SimpleITK\u001b[0m\u001b[0;34m.\u001b[0m\u001b[0mImageFileReader_Execute\u001b[0m\u001b[0;34m(\u001b[0m\u001b[0mself\u001b[0m\u001b[0;34m)\u001b[0m\u001b[0;34m\u001b[0m\u001b[0;34m\u001b[0m\u001b[0m\n\u001b[0m",
      "\u001b[0;31mRuntimeError\u001b[0m: Exception thrown in SimpleITK ImageFileReader_Execute: /Users/ec2-user/actions-runner/_work/SimpleITK/SimpleITK/bld/ITK/Modules/IO/NIFTI/src/itkNiftiImageIO.cxx:2135:\nITK ERROR: ITK only supports orthonormal direction cosines.  No orthonormal definition found!"
     ]
    }
   ],
   "source": [
    "label_mask_sitk_list = []\n",
    "for i in range(len(vertebrae_list)):\n",
    "    label_mask_path = vertebrae_list[i]\n",
    "    if not os.path.exists(label_mask_path):\n",
    "        print(f\"파일이 존재하지 않습니다 :{label_mask_path}\")\n",
    "    print(label_mask_path)\n",
    "    label_mask_sitk_1 = sitk.ReadImage(label_mask_path)\n",
    "    label_mask_sitk_2 = sitk.GetArrayFromImage(label_mask_sitk_1)\n",
    "    label_mask_sitk_list.append(label_mask_sitk_2)\n",
    "    \n",
    "  "
   ]
  },
  {
   "cell_type": "code",
   "execution_count": 59,
   "metadata": {},
   "outputs": [
    {
     "name": "stdout",
     "output_type": "stream",
     "text": [
      "./s0000/segmentations/vertebrae_C2.nii.gz\n"
     ]
    },
    {
     "data": {
      "image/png": "[encoded data removed]",
      "text/plain": [
       "<Figure size 800x800 with 1 Axes>"
      ]
     },
     "metadata": {},
     "output_type": "display_data"
    }
   ],
   "source": [
    "import matplotlib.pyplot as plt \n",
    "import numpy as np\n",
    "label_mask_sitk_list = []\n",
    "i=1\n",
    "label_mask_path = vertebrae_list[i]\n",
    "if not os.path.exists(label_mask_path):\n",
    "    print(f\"파일이 존재하지 않습니다 :{label_mask_path}\")\n",
    "print(label_mask_path)\n",
    "label_mask_sitk_1 = sitk.ReadImage(label_mask_path)\n",
    "label_mask_sitk_2 = sitk.GetArrayFromImage(label_mask_sitk_1)\n",
    "#label_mask_sitk_list.append(label_mask_sitk_2)\n",
    "\n",
    "import numpy as np\n",
    "import matplotlib.pyplot as plt\n",
    "from mpl_toolkits.mplot3d import Axes3D\n",
    "\n",
    "# nonzero()를 사용하여 3D 좌표 추출\n",
    "points = np.nonzero(label_mask_sitk_2)  # (z, y, x) 형태의 튜플\n",
    "\n",
    "# Figure 및 3D 축 생성\n",
    "fig = plt.figure(figsize=(8, 8))\n",
    "ax = fig.add_subplot(111, projection='3d')\n",
    "\n",
    "# 3D 산점도 플롯\n",
    "ax.scatter(points[2], points[1], points[0], c='red', marker='o')  # x, y, z 순서로 플롯\n",
    "\n",
    "# 라벨 및 제목 설정\n",
    "ax.set_xlabel('X axis')\n",
    "ax.set_ylabel('Y axis')\n",
    "ax.set_zlabel('Z axis')\n",
    "ax.set_title('3D Plot of Nonzero Points')\n",
    "ax.view_init(elev=45, azim=0) \n",
    "\n",
    "plt.show()\n"
   ]
  },
  {
   "cell_type": "code",
   "execution_count": 56,
   "metadata": {},
   "outputs": [
    {
     "data": {
      "text/plain": [
       "(array([], dtype=int64), array([], dtype=int64), array([], dtype=int64))"
      ]
     },
     "execution_count": 56,
     "metadata": {},
     "output_type": "execute_result"
    }
   ],
   "source": [
    "points"
   ]
  },
  {
   "cell_type": "code",
   "execution_count": 60,
   "metadata": {},
   "outputs": [
    {
     "data": {
      "text/plain": [
       "0"
      ]
     },
     "execution_count": 60,
     "metadata": {},
     "output_type": "execute_result"
    }
   ],
   "source": [
    "np.sum(label_mask_sitk_2)"
   ]
  },
  {
   "cell_type": "code",
   "execution_count": 61,
   "metadata": {},
   "outputs": [
    {
     "ename": "SyntaxError",
     "evalue": "invalid syntax (3842437852.py, line 2)",
     "output_type": "error",
     "traceback": [
      "\u001b[0;36m  Cell \u001b[0;32mIn[61], line 2\u001b[0;36m\u001b[0m\n\u001b[0;31m    conda create -n medical_img python=3.9\u001b[0m\n\u001b[0m          ^\u001b[0m\n\u001b[0;31mSyntaxError\u001b[0m\u001b[0;31m:\u001b[0m invalid syntax\n"
     ]
    }
   ],
   "source": [
    "# 가상환경 다시만들기 = python 3.9 \n",
    "conda create -n medical_img python=3.9\n",
    "pip install simpleitk==2.0.2\n",
    "\n"
   ]
  },
  {
   "cell_type": "code",
   "execution_count": null,
   "metadata": {},
   "outputs": [],
   "source": []
  }
 ],
 "metadata": {
  "kernelspec": {
   "display_name": "dlenv",
   "language": "python",
   "name": "python3"
  },
  "language_info": {
   "codemirror_mode": {
    "name": "ipython",
    "version": 3
   },
   "file_extension": ".py",
   "mimetype": "text/x-python",
   "name": "python",
   "nbconvert_exporter": "python",
   "pygments_lexer": "ipython3",
   "version": "3.12.3"
  }
 },
 "nbformat": 4,
 "nbformat_minor": 2
}
